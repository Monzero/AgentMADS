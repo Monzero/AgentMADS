{
 "cells": [
  {
   "cell_type": "markdown",
   "metadata": {},
   "source": [
    "## Uploading PDF from link to ChatPDF"
   ]
  },
  {
   "cell_type": "code",
   "execution_count": 8,
   "metadata": {},
   "outputs": [],
   "source": [
    "url_link    = 'https://www.bseindia.com/xml-data/corpfiling/AttachHis/fe3c32f3-1652-436c-8c50-27fd0e77e5c8.pdf'\n",
    "\n",
    "## Above link will upload the Annual report of shrre cement and prepare for prompts\n",
    "## Here replace link if need be"
   ]
  },
  {
   "cell_type": "code",
   "execution_count": null,
   "metadata": {},
   "outputs": [],
   "source": [
    "#### Run this cell only once. This uploads the document to chatPDF. So unless you are changing the document. No need to re-run it.\n",
    "\n",
    "import requests\n",
    "\n",
    "headers = {\n",
    "  'x-api-key': 'sec_c3FrcK3DSUfwnXo9M3OtqtS467NO3KOe',\n",
    "  'Content-Type': 'application/json'\n",
    "}\n",
    "data = {'url': url_link}\n",
    "\n",
    "response = requests.post(\n",
    "    'https://api.chatpdf.com/v1/sources/add-url', headers=headers, json=data)\n",
    "\n",
    "if response.status_code == 200:\n",
    "    source_id = response.json()['sourceId']\n",
    "else:\n",
    "    print('Status:', response.status_code)\n",
    "    print('Error:', response.text)\n",
    "    \n"
   ]
  },
  {
   "cell_type": "markdown",
   "metadata": {},
   "source": [
    "## Trying Prompts"
   ]
  },
  {
   "cell_type": "code",
   "execution_count": 3,
   "metadata": {},
   "outputs": [],
   "source": [
    "prompt    = \"List all the people on the board along with their date of appintment, date of reappointment, gender and their category. Give answer in JSON format.\""
   ]
  },
  {
   "cell_type": "code",
   "execution_count": null,
   "metadata": {},
   "outputs": [
    {
     "name": "stdout",
     "output_type": "stream",
     "text": [
      "Result: Here is the information in JSON format:\n",
      "\n",
      "```json\n",
      "[\n",
      "    {\n",
      "        \"name\": \"Hari Mohan Bangur\",\n",
      "        \"date_of_appointment\": \"31-07-1992\",\n",
      "        \"date_of_reappointment\": null,\n",
      "        \"gender\": \"Male\",\n",
      "        \"category\": \"Executive/Chairperson\"\n",
      "    },\n",
      "    {\n",
      "        \"name\": \"Prashant Bangur\",\n",
      "        \"date_of_appointment\": \"23-08-2012\",\n",
      "        \"date_of_reappointment\": null,\n",
      "        \"gender\": \"Male\",\n",
      "        \"category\": \"Executive\"\n",
      "    },\n",
      "    {\n",
      "        \"name\": \"Neeraj Akhoury\",\n",
      "        \"date_of_appointment\": \"14-10-2022\",\n",
      "        \"date_of_reappointment\": null,\n",
      "        \"gender\": \"Male\",\n",
      "        \"category\": \"Executive/MD\"\n",
      "    },\n",
      "    {\n",
      "        \"name\": \"Uma Ghurka\",\n",
      "        \"date_of_appointment\": \"11-11-2019\",\n",
      "        \"date_of_reappointment\": \"11-11-2024\",\n",
      "        \"gender\": \"Female\",\n",
      "        \"category\": \"Non-Executive - Independent Director\"\n",
      "    },\n",
      "    {\n",
      "        \"name\": \"Sanjiv Krishnaji Shelgikar\",\n",
      "        \"date_of_appointment\": \"05-08-2015\",\n",
      "        \"date_of_reappointment\": \"05-08-2020\",\n",
      "        \"gender\": \"Male\",\n",
      "        \"category\": \"Non-Executive - Independent Director\"\n",
      "    },\n",
      "    {\n",
      "        \"name\": \"Zubair Ahmed\",\n",
      "        \"date_of_appointment\": \"21-05-2022\",\n",
      "        \"date_of_reappointment\": \"21-05-2022\",\n",
      "        \"gender\": \"Male\",\n",
      "        \"category\": \"Non-Executive - Independent Director\"\n",
      "    },\n",
      "    {\n",
      "        \"name\": \"Sushil Kumar Roongta\",\n",
      "        \"date_of_appointment\": \"14-05-2024\",\n",
      "        \"date_of_reappointment\": \"14-05-2024\",\n",
      "        \"gender\": \"Male\",\n",
      "        \"category\": \"Non-Executive - Independent Director\"\n",
      "    }\n",
      "]\n",
      "```\n"
     ]
    }
   ],
   "source": [
    "### run this multiple time till you are satisfied with your prompt\n",
    "\n",
    "headers = {\n",
    "    'x-api-key': 'sec_c3FrcK3DSUfwnXo9M3OtqtS467NO3KOe',\n",
    "    \"Content-Type\": \"application/json\",\n",
    "}\n",
    "\n",
    "\n",
    "data = {\n",
    "    'sourceId': source_id,\n",
    "    'messages': [\n",
    "        {\n",
    "            'role': \"user\",\n",
    "            'content': prompt,\n",
    "        }\n",
    "    ]\n",
    "}\n",
    "\n",
    "response = requests.post(\n",
    "    'https://api.chatpdf.com/v1/chats/message', headers=headers, json=data)\n",
    "\n",
    "if response.status_code == 200:\n",
    "    print('Result:', response.json()['content'])\n",
    "else:\n",
    "    print('Status:', response.status_code)\n",
    "    print('Error:', response.text)"
   ]
  },
  {
   "cell_type": "code",
   "execution_count": null,
   "metadata": {},
   "outputs": [],
   "source": []
  }
 ],
 "metadata": {
  "kernelspec": {
   "display_name": "Conda_3_12_7",
   "language": "python",
   "name": "python3"
  },
  "language_info": {
   "codemirror_mode": {
    "name": "ipython",
    "version": 3
   },
   "file_extension": ".py",
   "mimetype": "text/x-python",
   "name": "python",
   "nbconvert_exporter": "python",
   "pygments_lexer": "ipython3",
   "version": "3.12.7"
  }
 },
 "nbformat": 4,
 "nbformat_minor": 2
}
