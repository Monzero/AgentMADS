{
 "cells": [
  {
   "cell_type": "code",
   "execution_count": 1,
   "metadata": {},
   "outputs": [
    {
     "name": "stdout",
     "output_type": "stream",
     "text": [
      "Collecting crawl4ai\n",
      "  Downloading Crawl4AI-0.4.247-py3-none-any.whl.metadata (25 kB)\n",
      "Collecting aiosqlite~=0.20 (from crawl4ai)\n",
      "  Downloading aiosqlite-0.20.0-py3-none-any.whl.metadata (4.3 kB)\n",
      "Requirement already satisfied: lxml~=5.3 in /opt/anaconda3/envs/conda-general/lib/python3.10/site-packages (from crawl4ai) (5.3.0)\n",
      "Collecting litellm>=1.53.1 (from crawl4ai)\n",
      "  Downloading litellm-1.59.3-py3-none-any.whl.metadata (36 kB)\n",
      "Requirement already satisfied: numpy<3,>=1.26.0 in /opt/anaconda3/envs/conda-general/lib/python3.10/site-packages (from crawl4ai) (1.26.4)\n",
      "Requirement already satisfied: pillow~=10.4 in /opt/anaconda3/envs/conda-general/lib/python3.10/site-packages (from crawl4ai) (10.4.0)\n",
      "Collecting playwright>=1.49.0 (from crawl4ai)\n",
      "  Downloading playwright-1.49.1-py3-none-macosx_11_0_arm64.whl.metadata (3.5 kB)\n",
      "Collecting python-dotenv~=1.0 (from crawl4ai)\n",
      "  Downloading python_dotenv-1.0.1-py3-none-any.whl.metadata (23 kB)\n",
      "Requirement already satisfied: requests~=2.26 in /opt/anaconda3/envs/conda-general/lib/python3.10/site-packages (from crawl4ai) (2.32.3)\n",
      "Requirement already satisfied: beautifulsoup4~=4.12 in /opt/anaconda3/envs/conda-general/lib/python3.10/site-packages (from crawl4ai) (4.12.3)\n",
      "Collecting tf-playwright-stealth>=1.1.0 (from crawl4ai)\n",
      "  Downloading tf_playwright_stealth-1.1.0-py3-none-any.whl.metadata (2.6 kB)\n",
      "Collecting xxhash~=3.4 (from crawl4ai)\n",
      "  Using cached xxhash-3.5.0-cp310-cp310-macosx_11_0_arm64.whl.metadata (12 kB)\n",
      "Collecting rank-bm25~=0.2 (from crawl4ai)\n",
      "  Downloading rank_bm25-0.2.2-py3-none-any.whl.metadata (3.2 kB)\n",
      "Collecting aiofiles>=24.1.0 (from crawl4ai)\n",
      "  Downloading aiofiles-24.1.0-py3-none-any.whl.metadata (10 kB)\n",
      "Collecting colorama~=0.4 (from crawl4ai)\n",
      "  Downloading colorama-0.4.6-py2.py3-none-any.whl.metadata (17 kB)\n",
      "Collecting snowballstemmer~=2.2 (from crawl4ai)\n",
      "  Downloading snowballstemmer-2.2.0-py2.py3-none-any.whl.metadata (6.5 kB)\n",
      "Collecting pydantic>=2.10 (from crawl4ai)\n",
      "  Downloading pydantic-2.10.5-py3-none-any.whl.metadata (30 kB)\n",
      "Collecting pyOpenSSL>=24.3.0 (from crawl4ai)\n",
      "  Downloading pyOpenSSL-25.0.0-py3-none-any.whl.metadata (16 kB)\n",
      "Collecting psutil>=6.1.1 (from crawl4ai)\n",
      "  Downloading psutil-6.1.1-cp36-abi3-macosx_11_0_arm64.whl.metadata (22 kB)\n",
      "Collecting nltk>=3.9.1 (from crawl4ai)\n",
      "  Downloading nltk-3.9.1-py3-none-any.whl.metadata (2.9 kB)\n",
      "Requirement already satisfied: typing_extensions>=4.0 in /opt/anaconda3/envs/conda-general/lib/python3.10/site-packages (from aiosqlite~=0.20->crawl4ai) (4.11.0)\n",
      "Requirement already satisfied: soupsieve>1.2 in /opt/anaconda3/envs/conda-general/lib/python3.10/site-packages (from beautifulsoup4~=4.12->crawl4ai) (2.5)\n",
      "Collecting aiohttp (from litellm>=1.53.1->crawl4ai)\n",
      "  Downloading aiohttp-3.11.11-cp310-cp310-macosx_11_0_arm64.whl.metadata (7.7 kB)\n",
      "Collecting click (from litellm>=1.53.1->crawl4ai)\n",
      "  Downloading click-8.1.8-py3-none-any.whl.metadata (2.3 kB)\n",
      "Requirement already satisfied: httpx<0.28.0,>=0.23.0 in /opt/anaconda3/envs/conda-general/lib/python3.10/site-packages (from litellm>=1.53.1->crawl4ai) (0.27.0)\n",
      "Collecting importlib-metadata>=6.8.0 (from litellm>=1.53.1->crawl4ai)\n",
      "  Downloading importlib_metadata-8.6.1-py3-none-any.whl.metadata (4.7 kB)\n",
      "Requirement already satisfied: jinja2<4.0.0,>=3.1.2 in /opt/anaconda3/envs/conda-general/lib/python3.10/site-packages (from litellm>=1.53.1->crawl4ai) (3.1.4)\n",
      "Requirement already satisfied: jsonschema<5.0.0,>=4.22.0 in /opt/anaconda3/envs/conda-general/lib/python3.10/site-packages (from litellm>=1.53.1->crawl4ai) (4.23.0)\n",
      "Collecting openai>=1.55.3 (from litellm>=1.53.1->crawl4ai)\n",
      "  Downloading openai-1.59.9-py3-none-any.whl.metadata (27 kB)\n",
      "Collecting tiktoken>=0.7.0 (from litellm>=1.53.1->crawl4ai)\n",
      "  Downloading tiktoken-0.8.0-cp310-cp310-macosx_11_0_arm64.whl.metadata (6.6 kB)\n",
      "Collecting tokenizers (from litellm>=1.53.1->crawl4ai)\n",
      "  Downloading tokenizers-0.21.0-cp39-abi3-macosx_11_0_arm64.whl.metadata (6.7 kB)\n",
      "Requirement already satisfied: joblib in /opt/anaconda3/envs/conda-general/lib/python3.10/site-packages (from nltk>=3.9.1->crawl4ai) (1.4.2)\n",
      "Collecting regex>=2021.8.3 (from nltk>=3.9.1->crawl4ai)\n",
      "  Using cached regex-2024.11.6-cp310-cp310-macosx_11_0_arm64.whl.metadata (40 kB)\n",
      "Collecting tqdm (from nltk>=3.9.1->crawl4ai)\n",
      "  Using cached tqdm-4.67.1-py3-none-any.whl.metadata (57 kB)\n",
      "Collecting greenlet==3.1.1 (from playwright>=1.49.0->crawl4ai)\n",
      "  Downloading greenlet-3.1.1-cp310-cp310-macosx_11_0_universal2.whl.metadata (3.8 kB)\n",
      "Collecting pyee==12.0.0 (from playwright>=1.49.0->crawl4ai)\n",
      "  Downloading pyee-12.0.0-py3-none-any.whl.metadata (2.8 kB)\n",
      "Collecting annotated-types>=0.6.0 (from pydantic>=2.10->crawl4ai)\n",
      "  Using cached annotated_types-0.7.0-py3-none-any.whl.metadata (15 kB)\n",
      "Collecting pydantic-core==2.27.2 (from pydantic>=2.10->crawl4ai)\n",
      "  Downloading pydantic_core-2.27.2-cp310-cp310-macosx_11_0_arm64.whl.metadata (6.6 kB)\n",
      "Collecting typing_extensions>=4.0 (from aiosqlite~=0.20->crawl4ai)\n",
      "  Using cached typing_extensions-4.12.2-py3-none-any.whl.metadata (3.0 kB)\n",
      "Collecting cryptography<45,>=41.0.5 (from pyOpenSSL>=24.3.0->crawl4ai)\n",
      "  Downloading cryptography-44.0.0-cp39-abi3-macosx_10_9_universal2.whl.metadata (5.7 kB)\n",
      "Requirement already satisfied: charset-normalizer<4,>=2 in /opt/anaconda3/envs/conda-general/lib/python3.10/site-packages (from requests~=2.26->crawl4ai) (3.3.2)\n",
      "Requirement already satisfied: idna<4,>=2.5 in /opt/anaconda3/envs/conda-general/lib/python3.10/site-packages (from requests~=2.26->crawl4ai) (3.7)\n",
      "Requirement already satisfied: urllib3<3,>=1.21.1 in /opt/anaconda3/envs/conda-general/lib/python3.10/site-packages (from requests~=2.26->crawl4ai) (2.2.3)\n",
      "Requirement already satisfied: certifi>=2017.4.17 in /opt/anaconda3/envs/conda-general/lib/python3.10/site-packages (from requests~=2.26->crawl4ai) (2024.8.30)\n",
      "Collecting fake-http-header<0.4.0,>=0.3.5 (from tf-playwright-stealth>=1.1.0->crawl4ai)\n",
      "  Downloading fake_http_header-0.3.5-py3-none-any.whl.metadata (3.5 kB)\n",
      "Collecting pytest-mockito<0.0.5,>=0.0.4 (from tf-playwright-stealth>=1.1.0->crawl4ai)\n",
      "  Downloading pytest-mockito-0.0.4.tar.gz (3.0 kB)\n",
      "  Preparing metadata (setup.py) ... \u001b[?25ldone\n",
      "\u001b[?25hRequirement already satisfied: cffi>=1.12 in /opt/anaconda3/envs/conda-general/lib/python3.10/site-packages (from cryptography<45,>=41.0.5->pyOpenSSL>=24.3.0->crawl4ai) (1.17.1)\n",
      "Requirement already satisfied: anyio in /opt/anaconda3/envs/conda-general/lib/python3.10/site-packages (from httpx<0.28.0,>=0.23.0->litellm>=1.53.1->crawl4ai) (4.6.2)\n",
      "Requirement already satisfied: httpcore==1.* in /opt/anaconda3/envs/conda-general/lib/python3.10/site-packages (from httpx<0.28.0,>=0.23.0->litellm>=1.53.1->crawl4ai) (1.0.2)\n",
      "Requirement already satisfied: sniffio in /opt/anaconda3/envs/conda-general/lib/python3.10/site-packages (from httpx<0.28.0,>=0.23.0->litellm>=1.53.1->crawl4ai) (1.3.0)\n",
      "Requirement already satisfied: h11<0.15,>=0.13 in /opt/anaconda3/envs/conda-general/lib/python3.10/site-packages (from httpcore==1.*->httpx<0.28.0,>=0.23.0->litellm>=1.53.1->crawl4ai) (0.14.0)\n",
      "Collecting zipp>=3.20 (from importlib-metadata>=6.8.0->litellm>=1.53.1->crawl4ai)\n",
      "  Downloading zipp-3.21.0-py3-none-any.whl.metadata (3.7 kB)\n",
      "Requirement already satisfied: MarkupSafe>=2.0 in /opt/anaconda3/envs/conda-general/lib/python3.10/site-packages (from jinja2<4.0.0,>=3.1.2->litellm>=1.53.1->crawl4ai) (2.1.3)\n",
      "Requirement already satisfied: attrs>=22.2.0 in /opt/anaconda3/envs/conda-general/lib/python3.10/site-packages (from jsonschema<5.0.0,>=4.22.0->litellm>=1.53.1->crawl4ai) (24.2.0)\n",
      "Requirement already satisfied: jsonschema-specifications>=2023.03.6 in /opt/anaconda3/envs/conda-general/lib/python3.10/site-packages (from jsonschema<5.0.0,>=4.22.0->litellm>=1.53.1->crawl4ai) (2023.7.1)\n",
      "Requirement already satisfied: referencing>=0.28.4 in /opt/anaconda3/envs/conda-general/lib/python3.10/site-packages (from jsonschema<5.0.0,>=4.22.0->litellm>=1.53.1->crawl4ai) (0.30.2)\n",
      "Requirement already satisfied: rpds-py>=0.7.1 in /opt/anaconda3/envs/conda-general/lib/python3.10/site-packages (from jsonschema<5.0.0,>=4.22.0->litellm>=1.53.1->crawl4ai) (0.10.6)\n",
      "Collecting distro<2,>=1.7.0 (from openai>=1.55.3->litellm>=1.53.1->crawl4ai)\n",
      "  Downloading distro-1.9.0-py3-none-any.whl.metadata (6.8 kB)\n",
      "Collecting jiter<1,>=0.4.0 (from openai>=1.55.3->litellm>=1.53.1->crawl4ai)\n",
      "  Downloading jiter-0.8.2-cp310-cp310-macosx_11_0_arm64.whl.metadata (5.2 kB)\n",
      "Collecting pytest>=3 (from pytest-mockito<0.0.5,>=0.0.4->tf-playwright-stealth>=1.1.0->crawl4ai)\n",
      "  Downloading pytest-8.3.4-py3-none-any.whl.metadata (7.5 kB)\n",
      "Collecting mockito>=1.0.6 (from pytest-mockito<0.0.5,>=0.0.4->tf-playwright-stealth>=1.1.0->crawl4ai)\n",
      "  Downloading mockito-1.5.3-py3-none-any.whl.metadata (1.5 kB)\n",
      "Collecting aiohappyeyeballs>=2.3.0 (from aiohttp->litellm>=1.53.1->crawl4ai)\n",
      "  Downloading aiohappyeyeballs-2.4.4-py3-none-any.whl.metadata (6.1 kB)\n",
      "Collecting aiosignal>=1.1.2 (from aiohttp->litellm>=1.53.1->crawl4ai)\n",
      "  Downloading aiosignal-1.3.2-py2.py3-none-any.whl.metadata (3.8 kB)\n",
      "Collecting async-timeout<6.0,>=4.0 (from aiohttp->litellm>=1.53.1->crawl4ai)\n",
      "  Using cached async_timeout-5.0.1-py3-none-any.whl.metadata (5.1 kB)\n",
      "Collecting frozenlist>=1.1.1 (from aiohttp->litellm>=1.53.1->crawl4ai)\n",
      "  Using cached frozenlist-1.5.0-cp310-cp310-macosx_11_0_arm64.whl.metadata (13 kB)\n",
      "Collecting multidict<7.0,>=4.5 (from aiohttp->litellm>=1.53.1->crawl4ai)\n",
      "  Using cached multidict-6.1.0-cp310-cp310-macosx_11_0_arm64.whl.metadata (5.0 kB)\n",
      "Collecting propcache>=0.2.0 (from aiohttp->litellm>=1.53.1->crawl4ai)\n",
      "  Downloading propcache-0.2.1-cp310-cp310-macosx_11_0_arm64.whl.metadata (9.2 kB)\n",
      "Collecting yarl<2.0,>=1.17.0 (from aiohttp->litellm>=1.53.1->crawl4ai)\n",
      "  Downloading yarl-1.18.3-cp310-cp310-macosx_11_0_arm64.whl.metadata (69 kB)\n",
      "Collecting huggingface-hub<1.0,>=0.16.4 (from tokenizers->litellm>=1.53.1->crawl4ai)\n",
      "  Downloading huggingface_hub-0.27.1-py3-none-any.whl.metadata (13 kB)\n",
      "Requirement already satisfied: exceptiongroup>=1.0.2 in /opt/anaconda3/envs/conda-general/lib/python3.10/site-packages (from anyio->httpx<0.28.0,>=0.23.0->litellm>=1.53.1->crawl4ai) (1.2.0)\n",
      "Requirement already satisfied: pycparser in /opt/anaconda3/envs/conda-general/lib/python3.10/site-packages (from cffi>=1.12->cryptography<45,>=41.0.5->pyOpenSSL>=24.3.0->crawl4ai) (2.21)\n",
      "Collecting filelock (from huggingface-hub<1.0,>=0.16.4->tokenizers->litellm>=1.53.1->crawl4ai)\n",
      "  Downloading filelock-3.17.0-py3-none-any.whl.metadata (2.9 kB)\n",
      "Collecting fsspec>=2023.5.0 (from huggingface-hub<1.0,>=0.16.4->tokenizers->litellm>=1.53.1->crawl4ai)\n",
      "  Downloading fsspec-2024.12.0-py3-none-any.whl.metadata (11 kB)\n",
      "Requirement already satisfied: packaging>=20.9 in /opt/anaconda3/envs/conda-general/lib/python3.10/site-packages (from huggingface-hub<1.0,>=0.16.4->tokenizers->litellm>=1.53.1->crawl4ai) (24.1)\n",
      "Requirement already satisfied: pyyaml>=5.1 in /opt/anaconda3/envs/conda-general/lib/python3.10/site-packages (from huggingface-hub<1.0,>=0.16.4->tokenizers->litellm>=1.53.1->crawl4ai) (6.0.2)\n",
      "Collecting iniconfig (from pytest>=3->pytest-mockito<0.0.5,>=0.0.4->tf-playwright-stealth>=1.1.0->crawl4ai)\n",
      "  Downloading iniconfig-2.0.0-py3-none-any.whl.metadata (2.6 kB)\n",
      "Collecting pluggy<2,>=1.5 (from pytest>=3->pytest-mockito<0.0.5,>=0.0.4->tf-playwright-stealth>=1.1.0->crawl4ai)\n",
      "  Downloading pluggy-1.5.0-py3-none-any.whl.metadata (4.8 kB)\n",
      "Requirement already satisfied: tomli>=1 in /opt/anaconda3/envs/conda-general/lib/python3.10/site-packages (from pytest>=3->pytest-mockito<0.0.5,>=0.0.4->tf-playwright-stealth>=1.1.0->crawl4ai) (2.0.1)\n",
      "Downloading Crawl4AI-0.4.247-py3-none-any.whl (166 kB)\n",
      "Downloading aiofiles-24.1.0-py3-none-any.whl (15 kB)\n",
      "Downloading aiosqlite-0.20.0-py3-none-any.whl (15 kB)\n",
      "Downloading colorama-0.4.6-py2.py3-none-any.whl (25 kB)\n",
      "Downloading litellm-1.59.3-py3-none-any.whl (6.7 MB)\n",
      "\u001b[2K   \u001b[90m━━━━━━━━━━━━━━━━━━━━━━━━━━━━━━━━━━━━━━━━\u001b[0m \u001b[32m6.7/6.7 MB\u001b[0m \u001b[31m1.9 MB/s\u001b[0m eta \u001b[36m0:00:00\u001b[0m00:01\u001b[0m00:01\u001b[0m\n",
      "\u001b[?25hDownloading nltk-3.9.1-py3-none-any.whl (1.5 MB)\n",
      "\u001b[2K   \u001b[90m━━━━━━━━━━━━━━━━━━━━━━━━━━━━━━━━━━━━━━━━\u001b[0m \u001b[32m1.5/1.5 MB\u001b[0m \u001b[31m2.0 MB/s\u001b[0m eta \u001b[36m0:00:00\u001b[0ma \u001b[36m0:00:01\u001b[0m\n",
      "\u001b[?25hDownloading playwright-1.49.1-py3-none-macosx_11_0_arm64.whl (38.8 MB)\n",
      "\u001b[2K   \u001b[90m━━━━━━━━━━━━━━━━━━━━━━━━━━━━━━━━━━━━━━━━\u001b[0m \u001b[32m38.8/38.8 MB\u001b[0m \u001b[31m2.4 MB/s\u001b[0m eta \u001b[36m0:00:00\u001b[0m00:01\u001b[0m00:01\u001b[0m\n",
      "\u001b[?25hDownloading greenlet-3.1.1-cp310-cp310-macosx_11_0_universal2.whl (271 kB)\n",
      "Downloading pyee-12.0.0-py3-none-any.whl (14 kB)\n",
      "Downloading psutil-6.1.1-cp36-abi3-macosx_11_0_arm64.whl (248 kB)\n",
      "Downloading pydantic-2.10.5-py3-none-any.whl (431 kB)\n",
      "Downloading pydantic_core-2.27.2-cp310-cp310-macosx_11_0_arm64.whl (1.8 MB)\n",
      "\u001b[2K   \u001b[90m━━━━━━━━━━━━━━━━━━━━━━━━━━━━━━━━━━━━━━━━\u001b[0m \u001b[32m1.8/1.8 MB\u001b[0m \u001b[31m4.9 MB/s\u001b[0m eta \u001b[36m0:00:00\u001b[0ma \u001b[36m0:00:01\u001b[0m\n",
      "\u001b[?25hDownloading pyOpenSSL-25.0.0-py3-none-any.whl (56 kB)\n",
      "Downloading python_dotenv-1.0.1-py3-none-any.whl (19 kB)\n",
      "Downloading rank_bm25-0.2.2-py3-none-any.whl (8.6 kB)\n",
      "Downloading snowballstemmer-2.2.0-py2.py3-none-any.whl (93 kB)\n",
      "Downloading tf_playwright_stealth-1.1.0-py3-none-any.whl (33 kB)\n",
      "Using cached xxhash-3.5.0-cp310-cp310-macosx_11_0_arm64.whl (30 kB)\n",
      "Using cached annotated_types-0.7.0-py3-none-any.whl (13 kB)\n",
      "Downloading cryptography-44.0.0-cp39-abi3-macosx_10_9_universal2.whl (6.5 MB)\n",
      "\u001b[2K   \u001b[90m━━━━━━━━━━━━━━━━━━━━━━━━━━━━━━━━━━━━━━━━\u001b[0m \u001b[32m6.5/6.5 MB\u001b[0m \u001b[31m4.5 MB/s\u001b[0m eta \u001b[36m0:00:00\u001b[0ma \u001b[36m0:00:01\u001b[0m\n",
      "\u001b[?25hDownloading fake_http_header-0.3.5-py3-none-any.whl (14 kB)\n",
      "Downloading importlib_metadata-8.6.1-py3-none-any.whl (26 kB)\n",
      "Downloading openai-1.59.9-py3-none-any.whl (455 kB)\n",
      "Using cached regex-2024.11.6-cp310-cp310-macosx_11_0_arm64.whl (284 kB)\n",
      "Downloading tiktoken-0.8.0-cp310-cp310-macosx_11_0_arm64.whl (982 kB)\n",
      "\u001b[2K   \u001b[90m━━━━━━━━━━━━━━━━━━━━━━━━━━━━━━━━━━━━━━━━\u001b[0m \u001b[32m982.4/982.4 kB\u001b[0m \u001b[31m3.8 MB/s\u001b[0m eta \u001b[36m0:00:00\u001b[0ma \u001b[36m0:00:01\u001b[0m\n",
      "\u001b[?25hUsing cached tqdm-4.67.1-py3-none-any.whl (78 kB)\n",
      "Using cached typing_extensions-4.12.2-py3-none-any.whl (37 kB)\n",
      "Downloading aiohttp-3.11.11-cp310-cp310-macosx_11_0_arm64.whl (455 kB)\n",
      "Downloading click-8.1.8-py3-none-any.whl (98 kB)\n",
      "Downloading tokenizers-0.21.0-cp39-abi3-macosx_11_0_arm64.whl (2.6 MB)\n",
      "\u001b[2K   \u001b[90m━━━━━━━━━━━━━━━━━━━━━━━━━━━━━━━━━━━━━━━━\u001b[0m \u001b[32m2.6/2.6 MB\u001b[0m \u001b[31m4.6 MB/s\u001b[0m eta \u001b[36m0:00:00\u001b[0ma \u001b[36m0:00:01\u001b[0m\n",
      "\u001b[?25hDownloading aiohappyeyeballs-2.4.4-py3-none-any.whl (14 kB)\n",
      "Downloading aiosignal-1.3.2-py2.py3-none-any.whl (7.6 kB)\n",
      "Using cached async_timeout-5.0.1-py3-none-any.whl (6.2 kB)\n",
      "Downloading distro-1.9.0-py3-none-any.whl (20 kB)\n",
      "Using cached frozenlist-1.5.0-cp310-cp310-macosx_11_0_arm64.whl (52 kB)\n",
      "Downloading huggingface_hub-0.27.1-py3-none-any.whl (450 kB)\n",
      "Downloading jiter-0.8.2-cp310-cp310-macosx_11_0_arm64.whl (311 kB)\n",
      "Downloading mockito-1.5.3-py3-none-any.whl (30 kB)\n",
      "Using cached multidict-6.1.0-cp310-cp310-macosx_11_0_arm64.whl (29 kB)\n",
      "Downloading propcache-0.2.1-cp310-cp310-macosx_11_0_arm64.whl (45 kB)\n",
      "Downloading pytest-8.3.4-py3-none-any.whl (343 kB)\n",
      "Downloading yarl-1.18.3-cp310-cp310-macosx_11_0_arm64.whl (92 kB)\n",
      "Downloading zipp-3.21.0-py3-none-any.whl (9.6 kB)\n",
      "Downloading fsspec-2024.12.0-py3-none-any.whl (183 kB)\n",
      "Downloading pluggy-1.5.0-py3-none-any.whl (20 kB)\n",
      "Downloading filelock-3.17.0-py3-none-any.whl (16 kB)\n",
      "Downloading iniconfig-2.0.0-py3-none-any.whl (5.9 kB)\n",
      "Building wheels for collected packages: pytest-mockito\n",
      "  Building wheel for pytest-mockito (setup.py) ... \u001b[?25ldone\n",
      "\u001b[?25h  Created wheel for pytest-mockito: filename=pytest_mockito-0.0.4-py3-none-any.whl size=3700 sha256=9deaf1d4a959408e079d5d645aa35ec87bf015b9f39beb89ef52b4cb0c488e0d\n",
      "  Stored in directory: /Users/supriyajadhav/Library/Caches/pip/wheels/df/72/3d/ad383ec25e3ebb14d12326426166bee101969601f5d35d5462\n",
      "Successfully built pytest-mockito\n",
      "Installing collected packages: snowballstemmer, zipp, xxhash, typing_extensions, tqdm, regex, rank-bm25, python-dotenv, psutil, propcache, pluggy, mockito, jiter, iniconfig, greenlet, fsspec, frozenlist, filelock, fake-http-header, distro, colorama, click, async-timeout, annotated-types, aiohappyeyeballs, aiofiles, tiktoken, pytest, pyee, pydantic-core, nltk, multidict, importlib-metadata, huggingface-hub, cryptography, aiosqlite, aiosignal, yarl, tokenizers, pytest-mockito, pyOpenSSL, pydantic, playwright, tf-playwright-stealth, openai, aiohttp, litellm, crawl4ai\n",
      "  Attempting uninstall: typing_extensions\n",
      "    Found existing installation: typing_extensions 4.11.0\n",
      "    Uninstalling typing_extensions-4.11.0:\n",
      "      Successfully uninstalled typing_extensions-4.11.0\n",
      "  Attempting uninstall: psutil\n",
      "    Found existing installation: psutil 5.9.0\n",
      "    Uninstalling psutil-5.9.0:\n",
      "      Successfully uninstalled psutil-5.9.0\n",
      "Successfully installed aiofiles-24.1.0 aiohappyeyeballs-2.4.4 aiohttp-3.11.11 aiosignal-1.3.2 aiosqlite-0.20.0 annotated-types-0.7.0 async-timeout-5.0.1 click-8.1.8 colorama-0.4.6 crawl4ai-0.4.247 cryptography-44.0.0 distro-1.9.0 fake-http-header-0.3.5 filelock-3.17.0 frozenlist-1.5.0 fsspec-2024.12.0 greenlet-3.1.1 huggingface-hub-0.27.1 importlib-metadata-8.6.1 iniconfig-2.0.0 jiter-0.8.2 litellm-1.59.3 mockito-1.5.3 multidict-6.1.0 nltk-3.9.1 openai-1.59.9 playwright-1.49.1 pluggy-1.5.0 propcache-0.2.1 psutil-6.1.1 pyOpenSSL-25.0.0 pydantic-2.10.5 pydantic-core-2.27.2 pyee-12.0.0 pytest-8.3.4 pytest-mockito-0.0.4 python-dotenv-1.0.1 rank-bm25-0.2.2 regex-2024.11.6 snowballstemmer-2.2.0 tf-playwright-stealth-1.1.0 tiktoken-0.8.0 tokenizers-0.21.0 tqdm-4.67.1 typing_extensions-4.12.2 xxhash-3.5.0 yarl-1.18.3 zipp-3.21.0\n"
     ]
    }
   ],
   "source": [
    "# Install the package\n",
    "!pip install -U crawl4ai"
   ]
  },
  {
   "cell_type": "code",
   "execution_count": 1,
   "metadata": {},
   "outputs": [
    {
     "name": "stdout",
     "output_type": "stream",
     "text": [
      "\u001b[36m[INIT].... → Running post-installation setup...\u001b[0m\n",
      "\u001b[36m[INIT].... → Installing Playwright browsers...\u001b[0m\n",
      "\u001b[32m[COMPLETE] ● Playwright installation completed successfully.\u001b[0m\n",
      "\u001b[36m[INIT].... → Starting database initialization...\u001b[0m\n",
      "\u001b[32m[COMPLETE] ● Database initialization completed successfully.\u001b[0m\n",
      "\u001b[32m[COMPLETE] ● Post-installation setup completed!\u001b[0m\n",
      "\u001b[0m"
     ]
    }
   ],
   "source": [
    "# Run post-installation setup\n",
    "!crawl4ai-setup"
   ]
  },
  {
   "cell_type": "code",
   "execution_count": 2,
   "metadata": {},
   "outputs": [
    {
     "name": "stdout",
     "output_type": "stream",
     "text": [
      "\u001b[36m[INIT].... → Running Crawl4AI health check...\u001b[0m\n",
      "\u001b[36m[INIT].... → Crawl4AI 0.4.247\u001b[0m\n",
      "\u001b[36m[TEST].... ℹ Testing crawling capabilities...\u001b[0m\n",
      "\u001b[36m[EXPORT].. ℹ Exporting PDF and taking screenshot took 0.94s\u001b[0m\n",
      "\u001b[32m[FETCH]... ↓ https://crawl4ai.com... | Status: \u001b[32mTrue\u001b[0m | Time: 5.73s\u001b[0m\n",
      "\u001b[36m[SCRAPE].. ◆ Processed https://crawl4ai.com... | Time: 14ms\u001b[0m\n",
      "\u001b[32m[COMPLETE] ● https://crawl4ai.com... | Status: \u001b[32mTrue\u001b[0m | Total: \u001b[33m5.75s\u001b[0m\u001b[0m\n",
      "\u001b[32m[COMPLETE] ● ✅ Crawling test passed!\u001b[0m\n",
      "\u001b[0m"
     ]
    }
   ],
   "source": [
    "# Verify your installation\n",
    "!crawl4ai-doctor"
   ]
  },
  {
   "cell_type": "code",
   "execution_count": 8,
   "metadata": {},
   "outputs": [
    {
     "name": "stdout",
     "output_type": "stream",
     "text": [
      "Requirement already satisfied: PyPDF2 in /opt/anaconda3/envs/conda-general/lib/python3.10/site-packages (3.0.1)\n"
     ]
    }
   ],
   "source": [
    "!python3 -m pip install PyPDF2\n"
   ]
  },
  {
   "cell_type": "code",
   "execution_count": 9,
   "metadata": {},
   "outputs": [
    {
     "name": "stdout",
     "output_type": "stream",
     "text": [
      "Name: PyPDF2\n",
      "Version: 3.0.1\n",
      "Summary: A pure-python PDF library capable of splitting, merging, cropping, and transforming PDF files\n",
      "Home-page: \n",
      "Author: \n",
      "Author-email: Mathieu Fenniak <biziqe@mathieu.fenniak.net>\n",
      "License: \n",
      "Location: /opt/anaconda3/envs/conda-general/lib/python3.10/site-packages\n",
      "Requires: \n",
      "Required-by: \n"
     ]
    }
   ],
   "source": [
    "!pip show PyPDF2\n"
   ]
  },
  {
   "cell_type": "code",
   "execution_count": 5,
   "metadata": {},
   "outputs": [
    {
     "name": "stdout",
     "output_type": "stream",
     "text": [
      "Requirement already satisfied: openpyxl in /opt/anaconda3/envs/conda-general/lib/python3.10/site-packages (3.1.5)\n",
      "Requirement already satisfied: et-xmlfile in /opt/anaconda3/envs/conda-general/lib/python3.10/site-packages (from openpyxl) (2.0.0)\n"
     ]
    }
   ],
   "source": [
    "!pip install openpyxl\n"
   ]
  },
  {
   "cell_type": "code",
   "execution_count": 1,
   "metadata": {},
   "outputs": [],
   "source": [
    "import os"
   ]
  },
  {
   "cell_type": "code",
   "execution_count": 2,
   "metadata": {},
   "outputs": [
    {
     "name": "stdout",
     "output_type": "stream",
     "text": [
      "Collecting fpdf2\n",
      "  Downloading fpdf2-2.8.2-py2.py3-none-any.whl.metadata (67 kB)\n",
      "Requirement already satisfied: defusedxml in /opt/anaconda3/envs/conda-general/lib/python3.10/site-packages (from fpdf2) (0.7.1)\n",
      "Requirement already satisfied: Pillow!=9.2.*,>=6.2.2 in /opt/anaconda3/envs/conda-general/lib/python3.10/site-packages (from fpdf2) (10.4.0)\n",
      "Requirement already satisfied: fonttools>=4.34.0 in /opt/anaconda3/envs/conda-general/lib/python3.10/site-packages (from fpdf2) (4.51.0)\n",
      "Downloading fpdf2-2.8.2-py2.py3-none-any.whl (236 kB)\n",
      "Installing collected packages: fpdf2\n",
      "Successfully installed fpdf2-2.8.2\n"
     ]
    }
   ],
   "source": [
    "!pip install fpdf2\n"
   ]
  }
 ],
 "metadata": {
  "kernelspec": {
   "display_name": "conda-general",
   "language": "python",
   "name": "python3"
  },
  "language_info": {
   "codemirror_mode": {
    "name": "ipython",
    "version": 3
   },
   "file_extension": ".py",
   "mimetype": "text/x-python",
   "name": "python",
   "nbconvert_exporter": "python",
   "pygments_lexer": "ipython3",
   "version": "3.10.15"
  }
 },
 "nbformat": 4,
 "nbformat_minor": 2
}
