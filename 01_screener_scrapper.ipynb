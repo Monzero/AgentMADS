{
 "cells": [
  {
   "cell_type": "code",
   "execution_count": 7,
   "metadata": {},
   "outputs": [
    {
     "name": "stdout",
     "output_type": "stream",
     "text": [
      "Requirement already satisfied: requests in /opt/anaconda3/envs/Conda_3_12_7/lib/python3.12/site-packages (2.32.3)\n",
      "Requirement already satisfied: beautifulsoup4 in /opt/anaconda3/envs/Conda_3_12_7/lib/python3.12/site-packages (4.12.3)\n",
      "Requirement already satisfied: charset-normalizer<4,>=2 in /opt/anaconda3/envs/Conda_3_12_7/lib/python3.12/site-packages (from requests) (3.4.0)\n",
      "Requirement already satisfied: idna<4,>=2.5 in /opt/anaconda3/envs/Conda_3_12_7/lib/python3.12/site-packages (from requests) (3.10)\n",
      "Requirement already satisfied: urllib3<3,>=1.21.1 in /opt/anaconda3/envs/Conda_3_12_7/lib/python3.12/site-packages (from requests) (2.2.3)\n",
      "Requirement already satisfied: certifi>=2017.4.17 in /opt/anaconda3/envs/Conda_3_12_7/lib/python3.12/site-packages (from requests) (2024.8.30)\n",
      "Requirement already satisfied: soupsieve>1.2 in /opt/anaconda3/envs/Conda_3_12_7/lib/python3.12/site-packages (from beautifulsoup4) (2.6)\n"
     ]
    }
   ],
   "source": [
    "!pip install requests beautifulsoup4"
   ]
  },
  {
   "cell_type": "code",
   "execution_count": 16,
   "metadata": {},
   "outputs": [
    {
     "name": "stdout",
     "output_type": "stream",
     "text": [
      "Requirement already satisfied: selenium in /opt/anaconda3/envs/Conda_3_12_7/lib/python3.12/site-packages (4.27.1)\n",
      "Requirement already satisfied: urllib3<3,>=1.26 in /opt/anaconda3/envs/Conda_3_12_7/lib/python3.12/site-packages (from urllib3[socks]<3,>=1.26->selenium) (2.2.3)\n",
      "Requirement already satisfied: trio~=0.17 in /opt/anaconda3/envs/Conda_3_12_7/lib/python3.12/site-packages (from selenium) (0.28.0)\n",
      "Requirement already satisfied: trio-websocket~=0.9 in /opt/anaconda3/envs/Conda_3_12_7/lib/python3.12/site-packages (from selenium) (0.11.1)\n",
      "Requirement already satisfied: certifi>=2021.10.8 in /opt/anaconda3/envs/Conda_3_12_7/lib/python3.12/site-packages (from selenium) (2024.8.30)\n",
      "Requirement already satisfied: typing_extensions~=4.9 in /opt/anaconda3/envs/Conda_3_12_7/lib/python3.12/site-packages (from selenium) (4.12.2)\n",
      "Requirement already satisfied: websocket-client~=1.8 in /opt/anaconda3/envs/Conda_3_12_7/lib/python3.12/site-packages (from selenium) (1.8.0)\n",
      "Requirement already satisfied: attrs>=23.2.0 in /opt/anaconda3/envs/Conda_3_12_7/lib/python3.12/site-packages (from trio~=0.17->selenium) (24.2.0)\n",
      "Requirement already satisfied: sortedcontainers in /opt/anaconda3/envs/Conda_3_12_7/lib/python3.12/site-packages (from trio~=0.17->selenium) (2.4.0)\n",
      "Requirement already satisfied: idna in /opt/anaconda3/envs/Conda_3_12_7/lib/python3.12/site-packages (from trio~=0.17->selenium) (3.10)\n",
      "Requirement already satisfied: outcome in /opt/anaconda3/envs/Conda_3_12_7/lib/python3.12/site-packages (from trio~=0.17->selenium) (1.3.0.post0)\n",
      "Requirement already satisfied: sniffio>=1.3.0 in /opt/anaconda3/envs/Conda_3_12_7/lib/python3.12/site-packages (from trio~=0.17->selenium) (1.3.1)\n",
      "Requirement already satisfied: wsproto>=0.14 in /opt/anaconda3/envs/Conda_3_12_7/lib/python3.12/site-packages (from trio-websocket~=0.9->selenium) (1.2.0)\n",
      "Requirement already satisfied: pysocks!=1.5.7,<2.0,>=1.5.6 in /opt/anaconda3/envs/Conda_3_12_7/lib/python3.12/site-packages (from urllib3[socks]<3,>=1.26->selenium) (1.7.1)\n",
      "Requirement already satisfied: h11<1,>=0.9.0 in /opt/anaconda3/envs/Conda_3_12_7/lib/python3.12/site-packages (from wsproto>=0.14->trio-websocket~=0.9->selenium) (0.14.0)\n"
     ]
    }
   ],
   "source": [
    "!pip install selenium"
   ]
  },
  {
   "cell_type": "code",
   "execution_count": 10,
   "metadata": {},
   "outputs": [],
   "source": [
    "#https://www.screener.in/company/RELIANCE/consolidated/\n",
    "\n",
    "import pandas as pd            #to work with the data frames\n",
    "import requests                #to request webpages for scrapping \n",
    "from bs4 import BeautifulSoup  #to parse html\n",
    "from selenium import webdriver #to scrappages that require javascript\n",
    "from selenium.webdriver.common.by import By #to select html elements by their attributes\n",
    "from selenium.webdriver.chrome.service import Service   #to use the chrome driver\n",
    "from selenium.webdriver.chrome.options import Options #to set options for the chrome driver\n",
    "from webdriver_manager.chrome import ChromeDriverManager #to manage the chrome driver"
   ]
  },
  {
   "cell_type": "markdown",
   "metadata": {},
   "source": [
    "## Getting user input and make screener link for the same"
   ]
  },
  {
   "cell_type": "code",
   "execution_count": 14,
   "metadata": {},
   "outputs": [],
   "source": [
    "#symbol  = 'RELIANCE'\n",
    "symbol = input(\"Enter symbol of the company : \").strip().upper()\n",
    "\n",
    "def get_screener_link(sym):\n",
    "    sym_url = f\"https://www.screener.in/company/{sym}/consolidated/\"\n",
    "    return sym_url\n",
    "    \n",
    "url = get_screener_link(symbol)"
   ]
  },
  {
   "cell_type": "markdown",
   "metadata": {},
   "source": [
    "## Web scrapping for the screener link"
   ]
  },
  {
   "cell_type": "code",
   "execution_count": null,
   "metadata": {},
   "outputs": [],
   "source": [
    "# Set up Chrome options\n",
    "chrome_options = Options()\n",
    "chrome_options.add_argument(\"--headless\")  # Ensure GUI is off\n",
    "chrome_options.add_argument(\"--no-sandbox\")\n",
    "chrome_options.add_argument(\"--disable-dev-shm-usage\")\n",
    "\n",
    "# Set up the WebDriver\n",
    "service = Service(ChromeDriverManager().install())\n",
    "driver = webdriver.Chrome(service=service, options=chrome_options)\n",
    "\n",
    "# Navigate to the URL\n",
    "driver.get(url)\n",
    "\n",
    "page_source = driver.page_source\n",
    "\n",
    "#print(page_source)\n",
    "\n",
    "# Close the WebDriver\n",
    "driver.quit()\n",
    "\n",
    "\n"
   ]
  },
  {
   "cell_type": "markdown",
   "metadata": {},
   "source": [
    "#### Extracting Company website"
   ]
  },
  {
   "cell_type": "code",
   "execution_count": 20,
   "metadata": {},
   "outputs": [
    {
     "name": "stdout",
     "output_type": "stream",
     "text": [
      "Company Website: http://www.ril.com\n"
     ]
    }
   ],
   "source": [
    "from bs4 import BeautifulSoup\n",
    "\n",
    "def extract_company_website(html_content):\n",
    "    # Parse the HTML content\n",
    "    soup = BeautifulSoup(html_content, 'html.parser')\n",
    "\n",
    "    # Find the first <a> tag within the div class 'company-links'\n",
    "    company_links_div = soup.find('div', class_='company-links')\n",
    "    if company_links_div:\n",
    "        website_link = company_links_div.find('a', href=True)  # Look for the first <a> tag with href\n",
    "        if website_link:\n",
    "            return website_link['href']\n",
    "    return None\n",
    "\n",
    "# Call the function\n",
    "company_website = extract_company_website(page_source)\n",
    "print(f\"Company Website: {company_website}\")\n"
   ]
  },
  {
   "cell_type": "markdown",
   "metadata": {},
   "source": [
    "### Getting annual reports links"
   ]
  },
  {
   "cell_type": "code",
   "execution_count": 31,
   "metadata": {},
   "outputs": [
    {
     "name": "stdout",
     "output_type": "stream",
     "text": [
      "Link: https://www.bseindia.com/stockinfo/AnnPdfOpen.aspx?Pname=d473280d-1c2b-4037-8ff9-dfbb82aa2c7e.pdf, Text: Financial Year 2024from bse\n",
      "Link: https://www.bseindia.com/stockinfo/AnnPdfOpen.aspx?Pname=\\b55b5dfc-a3bf-4f24-9d7f-ca09774a1dd9.pdf, Text: Financial Year 2023from bse\n",
      "Link: https://www.bseindia.com/bseplus/AnnualReport/500325/74185500325.pdf, Text: Financial Year 2022from bse\n",
      "Link: https://www.bseindia.com/bseplus/AnnualReport/500325/68509500325.pdf, Text: Financial Year 2021from bse\n",
      "Link: https://www.bseindia.com/bseplus/AnnualReport/500325/5003250320.pdf, Text: Financial Year 2020from bse\n",
      "Link: https://www.bseindia.com/bseplus/AnnualReport/500325/5003250319.pdf, Text: Financial Year 2019from bse\n",
      "Link: https://www.bseindia.com/bseplus/AnnualReport/500325/5003250318.pdf, Text: Financial Year 2018from bse\n",
      "Link: https://www.bseindia.com/bseplus/AnnualReport/500325/5003250317.pdf, Text: Financial Year 2017from bse\n",
      "Link: https://www.bseindia.com/bseplus/AnnualReport/500325/5003250316.pdf, Text: Financial Year 2016from bse\n",
      "Link: https://www.bseindia.com/bseplus/AnnualReport/500325/5003250315.pdf, Text: Financial Year 2015from bse\n",
      "Link: https://www.bseindia.com/bseplus/AnnualReport/500325/5003250314.pdf, Text: Financial Year 2014from bse\n",
      "Link: https://archives.nseindia.com/annual_reports/AR_19_RELIANCE_2012_2013_08052013171218.zip, Text: Financial Year 2013from nse\n",
      "Link: https://www.bseindia.com/bseplus/AnnualReport/500325/5003250313.pdf, Text: Financial Year 2013from bse\n",
      "Link: https://www.bseindia.com/bseplus/AnnualReport/500325/5003250312.pdf, Text: Financial Year 2012from bse\n",
      "Link: https://archives.nseindia.com/annual_reports/AR_RELIANCE_2011_2012_29062012101059.zip, Text: Financial Year 2012from nse\n"
     ]
    }
   ],
   "source": [
    "\n",
    "# Parse the HTML\n",
    "soup = BeautifulSoup(page_source, 'html.parser')\n",
    "\n",
    "# Find the first `ul` with class `list-links` and extract the links\n",
    "ul = soup.find_all('ul', class_='list-links')[1]  # Adjust index to select the desired `ul`\n",
    "\n",
    "# Extract all <a> tags within the selected `ul`\n",
    "links = ul.find_all('a', href=True)\n",
    "\n",
    "# Print the links and their text\n",
    "for link in links:\n",
    "    href = link['href']\n",
    "    text = link.get_text(strip=True)\n",
    "    print(f\"Link: {href}, Text: {text}\")\n"
   ]
  },
  {
   "cell_type": "code",
   "execution_count": null,
   "metadata": {},
   "outputs": [],
   "source": []
  }
 ],
 "metadata": {
  "kernelspec": {
   "display_name": "Conda_3_12_7",
   "language": "python",
   "name": "python3"
  },
  "language_info": {
   "codemirror_mode": {
    "name": "ipython",
    "version": 3
   },
   "file_extension": ".py",
   "mimetype": "text/x-python",
   "name": "python",
   "nbconvert_exporter": "python",
   "pygments_lexer": "ipython3",
   "version": "3.12.7"
  }
 },
 "nbformat": 4,
 "nbformat_minor": 2
}
