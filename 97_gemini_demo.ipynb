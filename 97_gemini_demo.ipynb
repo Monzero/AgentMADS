{
 "cells": [
  {
   "cell_type": "code",
   "execution_count": 1,
   "metadata": {},
   "outputs": [],
   "source": [
    "!pip install -q -U google-genai"
   ]
  },
  {
   "cell_type": "markdown",
   "metadata": {},
   "source": [
    "\n",
    "You can generate API key from this page : \n",
    "\n",
    "https://aistudio.google.com/app/prompts/new_chat"
   ]
  },
  {
   "cell_type": "code",
   "execution_count": 2,
   "metadata": {},
   "outputs": [],
   "source": [
    "import os\n",
    "from google import genai\n",
    "from google.genai import types\n",
    "import httpx\n",
    "from google import genai\n",
    "from google.genai import types\n",
    "import pathlib\n",
    "import httpx"
   ]
  },
  {
   "cell_type": "code",
   "execution_count": null,
   "metadata": {},
   "outputs": [],
   "source": [
    "os.environ[\"GOOGLE_API_KEY\"] = \"YOUR_API_KEY\""
   ]
  },
  {
   "cell_type": "code",
   "execution_count": 4,
   "metadata": {},
   "outputs": [],
   "source": [
    "\n",
    "client = genai.Client()"
   ]
  },
  {
   "cell_type": "markdown",
   "metadata": {},
   "source": [
    "Change prompt and source as needed ; Try to get the information here and do not bother about assigning score. "
   ]
  },
  {
   "cell_type": "code",
   "execution_count": 7,
   "metadata": {},
   "outputs": [],
   "source": [
    "prompt = (f\" Does the company have in place policies and practices which explain its supplier/contractor selection ?\" \n",
    "          f\"Can you fetch what standards do the company have for supplier/vendor selection? If you don't find any information, please say 'I could not find'.\"\n",
    "          f\"What does the policy say about vendor/supplier management? What policies they have to control the vendors to defined standard?\" \n",
    "          f\"What standards does the company have for the suppliers or vendor? \"\n",
    "          f\"If you dont find information about the supplier/vendor management, please say 'I could not find'.\"\n",
    "          f\"Look at the content and find the policy name where is it written about this. Do not make up information. \")\n",
    "\n",
    "policy_filepath = pathlib.Path('./98_data/combined_policies.pdf')"
   ]
  },
  {
   "cell_type": "code",
   "execution_count": 8,
   "metadata": {},
   "outputs": [
    {
     "name": "stdout",
     "output_type": "stream",
     "text": [
      "Based on the provided document, Shree Cement has a **Sustainable Procurement Policy** that addresses supplier/contractor selection.  However, the document does not detail specific standards used for selection, but rather outlines the overall commitment and process.\n",
      "\n",
      "Here's what the policy states:\n",
      "\n",
      "**Supplier/Vendor Selection:**\n",
      "\n",
      "The policy mentions the following regarding supplier selection:\n",
      "\n",
      "*   **Screening of suppliers:** The company screens suppliers based on social and environmental parameters as part of the onboarding process.\n",
      "*   **Defining critical and non-critical suppliers:** The company categorizes suppliers based on factors such as volume of procurement, substitutability, and other parameters.\n",
      "*   **Supplier assessments:**  The company carries out assessments of suppliers using its assessment framework, integrating the results into the onboarding process. This considers the location and vulnerability of the supplier.\n",
      "*   **Training and Awareness:** The company provides awareness and training to its supply chain partners about sustainability principles.\n",
      "\n",
      "\n",
      "**Supplier/Vendor Management:**\n",
      "\n",
      "The policy does not elaborate on specific *standards* for controlling vendors. It focuses on the overall commitment to sustainable procurement practices.  The policy does, however, indicate that the company expects its suppliers to follow the Supplier Code of Conduct (available as an annexure). This code details expectations regarding human rights, health & safety, ethics & integrity, environmental impact, and product quality.  The company also has mechanisms for addressing violations and non-compliance.\n",
      "\n",
      "In short, while the document confirms a Sustainable Procurement Policy exists that includes supplier selection and management processes, it does not provide granular detail on specific selection standards and vendor control mechanisms beyond the general principles outlined above and the Supplier Code of Conduct.\n",
      "\n"
     ]
    }
   ],
   "source": [
    "response = client.models.generate_content(\n",
    "  model=\"gemini-1.5-flash\",\n",
    "  contents=[\n",
    "      types.Part.from_bytes(\n",
    "        data=policy_filepath.read_bytes(),\n",
    "        mime_type='application/pdf',\n",
    "      ),\n",
    "      prompt])\n",
    "print(response.text)"
   ]
  },
  {
   "cell_type": "code",
   "execution_count": null,
   "metadata": {},
   "outputs": [],
   "source": []
  }
 ],
 "metadata": {
  "kernelspec": {
   "display_name": "Conda_3_12_7",
   "language": "python",
   "name": "python3"
  },
  "language_info": {
   "codemirror_mode": {
    "name": "ipython",
    "version": 3
   },
   "file_extension": ".py",
   "mimetype": "text/x-python",
   "name": "python",
   "nbconvert_exporter": "python",
   "pygments_lexer": "ipython3",
   "version": "3.12.7"
  }
 },
 "nbformat": 4,
 "nbformat_minor": 2
}
